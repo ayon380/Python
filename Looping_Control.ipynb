{
 "cells": [
  {
   "cell_type": "code",
   "execution_count": null,
   "metadata": {},
   "outputs": [],
   "source": [
    "#Sum of Series (15)\n",
    "\n",
    "n=int(input())\n",
    "s=0\n",
    "for i in range(2,n+1):\n",
    "    s+=(1/i)\n",
    "print(s)"
   ]
  },
  {
   "cell_type": "code",
   "execution_count": null,
   "metadata": {},
   "outputs": [],
   "source": [
    "#Sum Until 0 (16)\n",
    "\n",
    "s=0\n",
    "while True:\n",
    "    c=int(input())\n",
    "    if(c==0):\n",
    "        print(s)\n",
    "        break;\n",
    "    else:\n",
    "        s+=c"
   ]
  },
  {
   "cell_type": "code",
   "execution_count": null,
   "metadata": {},
   "outputs": [],
   "source": [
    "#Not Divisible (17)\n",
    "\n",
    "for i in range(1, 1001):\n",
    "    if i % 2 != 0 and i % 3 != 0 and i % 5 != 0 and i % 7 != 0 and i % 11 != 0 and i % 13 != 0 and i % 17 != 0 and  i % 19 != 0:\n",
    "        print(i,end=\" \")"
   ]
  },
  {
   "cell_type": "code",
   "execution_count": null,
   "metadata": {},
   "outputs": [],
   "source": [
    "#HCF (18)\n",
    "\n",
    "a=int(input())\n",
    "b=int(input())\n",
    "d=0\n",
    "if(a<b):\n",
    "    c=a\n",
    "else:\n",
    "    c=b\n",
    "for i in range(1,c+1):\n",
    "    if(a%i==0 and b%i==0):\n",
    "        d=i\n",
    "print(d)"
   ]
  },
  {
   "cell_type": "code",
   "execution_count": null,
   "metadata": {},
   "outputs": [],
   "source": [
    "#Armstrong (19)\n",
    "\n",
    "a=int(input())\n",
    "b=a;\n",
    "s=0;\n",
    "while b!=0:\n",
    "    d=b%10;\n",
    "    s+=d*d*d\n",
    "    b//=10\n",
    "if s==a:\n",
    "    print(\"Yes\")\n",
    "else:\n",
    "    print(\"NO\")"
   ]
  },
  {
   "cell_type": "code",
   "execution_count": null,
   "metadata": {},
   "outputs": [],
   "source": [
    "# First and last digit (20)\n",
    "\n",
    "def swap(num):\n",
    "    str_num = str(num)\n",
    "    str_swapped = str_num[-1] + str_num[1:-1] + str_num[0]\n",
    "    return int(str_swapped)\n",
    "a=int(input())\n",
    "print(swap(a))"
   ]
  },
  {
   "cell_type": "code",
   "execution_count": null,
   "metadata": {},
   "outputs": [],
   "source": [
    "# Prime Numbers upto N (21)\n",
    "\n",
    "n=int(input())\n",
    "for i in range (1,n+1):\n",
    "    c=0\n",
    "    for j in range(2,i):\n",
    "        if(i%j==0):\n",
    "            c+=1\n",
    "    if(c==0):\n",
    "        print(i,end=\" \")"
   ]
  },
  {
   "cell_type": "code",
   "execution_count": null,
   "metadata": {},
   "outputs": [],
   "source": [
    "#Pattern No (22)\n",
    "\n",
    "for i in range(1, 10):\n",
    "    if (i <= 5):\n",
    "        print(\"* \"*i)\n",
    "    else:\n",
    "        print(\"* \"*(10-i))\n"
   ]
  },
  {
   "cell_type": "code",
   "execution_count": null,
   "metadata": {},
   "outputs": [],
   "source": [
    "#matrix (23)\n",
    "\n",
    "for i in range(1,5):\n",
    "    for j in range(1,5):\n",
    "        if((i+j) %2==0):\n",
    "            print(1,end= \" \")\n",
    "        else:\n",
    "            print(0,end=\" \")\n",
    "    print(\"\\n\")"
   ]
  }
 ],
 "metadata": {
  "kernelspec": {
   "display_name": "Python 3.10.7 64-bit",
   "language": "python",
   "name": "python3"
  },
  "language_info": {
   "codemirror_mode": {
    "name": "ipython",
    "version": 3
   },
   "file_extension": ".py",
   "mimetype": "text/x-python",
   "name": "python",
   "nbconvert_exporter": "python",
   "pygments_lexer": "ipython3",
   "version": "3.10.7"
  },
  "orig_nbformat": 4,
  "vscode": {
   "interpreter": {
    "hash": "369f2c481f4da34e4445cda3fffd2e751bd1c4d706f27375911949ba6bb62e1c"
   }
  }
 },
 "nbformat": 4,
 "nbformat_minor": 2
}
