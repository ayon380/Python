{
 "cells": [
  {
   "cell_type": "code",
   "execution_count": null,
   "metadata": {},
   "outputs": [],
   "source": [
    "a = 10\n",
    "print(a)\n",
    "a += 10\n",
    "print(a)\n",
    "a -= 10\n",
    "print(a)\n",
    "a *= 10\n",
    "print(a)\n",
    "a /= 10\n",
    "print(a)\n",
    "a //= 10\n",
    "print(a)\n",
    "a %= 10\n",
    "print(a)\n",
    "a **= 10\n",
    "print(a)\n"
   ]
  },
  {
   "cell_type": "code",
   "execution_count": null,
   "metadata": {},
   "outputs": [],
   "source": [
    "for i in range(1,21):\n",
    "    if(i==10):\n",
    "        continue\n",
    "    print(i,end=\" \");"
   ]
  },
  {
   "cell_type": "code",
   "execution_count": null,
   "metadata": {},
   "outputs": [],
   "source": [
    "a = 10\n",
    "b = 20\n",
    "print(a > b)\n",
    "print(a < b)\n",
    "print(a >= b)\n",
    "print(a <= b)\n"
   ]
  },
  {
   "cell_type": "code",
   "execution_count": null,
   "metadata": {},
   "outputs": [],
   "source": [
    "a = 10\n",
    "b = 5\n",
    "print(a > 5 and b < 3)\n",
    "print(a > 5 or b > 10)\n",
    "print(not a > 5)\n"
   ]
  },
  {
   "cell_type": "code",
   "execution_count": null,
   "metadata": {},
   "outputs": [],
   "source": [
    "a = \"python programming\"\n",
    "print('yth' in a)\n",
    "b = 1, 2, 3, 4\n",
    "print(6 in b)\n"
   ]
  },
  {
   "cell_type": "code",
   "execution_count": null,
   "metadata": {},
   "outputs": [],
   "source": [
    "a = 10\n",
    "b = 10\n",
    "print(a is b)\n",
    "print(a is not b)\n"
   ]
  },
  {
   "cell_type": "code",
   "execution_count": null,
   "metadata": {},
   "outputs": [],
   "source": [
    "# Bitwise &  Operators\n",
    "# & -> returns 1  only if both are 1\n",
    "a = 10  # 1010\n",
    "b = 4  # 0100\n",
    "print(a&b) "
   ]
  },
  {
   "cell_type": "code",
   "execution_count": null,
   "metadata": {},
   "outputs": [],
   "source": [
    "# Bitwise | Operators\n",
    "# & -> returns 0 if both bits are 0 otherwise 1\n",
    "a = 10  # 1010\n",
    "b = 4  # 0100\n",
    "print(a|b) "
   ]
  },
  {
   "cell_type": "code",
   "execution_count": null,
   "metadata": {},
   "outputs": [],
   "source": [
    "# Bitwise ~ Operators\n",
    "# & -> add 1 at the last and gives -ve \n",
    "a = 10  # 1010\n",
    "print(~a) "
   ]
  },
  {
   "cell_type": "code",
   "execution_count": null,
   "metadata": {},
   "outputs": [],
   "source": [
    "# Bitwise ^  Operators\n",
    "# & -> returns 1  only if both are 1\n",
    "a = 10  # 1010\n",
    "b = 4  # 0100\n",
    "print(a^b) "
   ]
  },
  {
   "cell_type": "code",
   "execution_count": null,
   "metadata": {},
   "outputs": [],
   "source": [
    "a=9\n",
    "if a>10:\n",
    "    print(a)\n",
    "else:\n",
    "    print(\"FFFF\")"
   ]
  },
  {
   "cell_type": "code",
   "execution_count": null,
   "metadata": {},
   "outputs": [],
   "source": [
    "print(a,\"is an integer \")"
   ]
  },
  {
   "cell_type": "code",
   "execution_count": null,
   "metadata": {},
   "outputs": [],
   "source": [
    "n=int(input())\n",
    "if(n%2==0):\n",
    "    print(\"yes\")\n",
    "else:\n",
    "    print(\"no\")"
   ]
  },
  {
   "cell_type": "code",
   "execution_count": null,
   "metadata": {},
   "outputs": [],
   "source": [
    "n=int(input())\n",
    "if(n%2==0):\n",
    "    if(n%4!=0):\n",
    "        print(\"yes\")\n",
    "    else:\n",
    "        print(\"no\")\n",
    "else:\n",
    "    print(\"no\")"
   ]
  },
  {
   "cell_type": "code",
   "execution_count": null,
   "metadata": {},
   "outputs": [],
   "source": [
    "##First Practical Distance Calculation(1)\n",
    "\n",
    "import math\n",
    "\n",
    "x1=int(input(print(\"Enter x1\")))\n",
    "x2=int(input(print(\"Enter x2\")))\n",
    "y1=int(input(print(\"Enter y1\")))\n",
    "y2=int(input(print(\"Enter y2\")))\n",
    "x=[x1,x2]\n",
    "y=[y1,y2]\n",
    "print(math.dist(x,y))"
   ]
  },
  {
   "cell_type": "code",
   "execution_count": null,
   "metadata": {},
   "outputs": [],
   "source": [
    "#Grading(2)\n",
    "\n",
    "p=int(input())\n",
    "c=''\n",
    "if(p>=90):\n",
    "    c='A'\n",
    "elif(p>=80 and p<90):\n",
    "    c='B'\n",
    "elif(p>=70 and p<80):\n",
    "    c='C'\n",
    "elif(p>=60 and p<70):\n",
    "    c='D'\n",
    "elif(p>=40 and p<60):\n",
    "    c='E'\n",
    "else:\n",
    "    c='F'\n",
    "print(c)"
   ]
  },
  {
   "cell_type": "code",
   "execution_count": null,
   "metadata": {},
   "outputs": [],
   "source": [
    "## Maximum of 3 numbers(3)\n",
    "\n",
    "a=int(input())\n",
    "b=int(input())\n",
    "c=int(input())\n",
    "print(max(a,b,c))"
   ]
  },
  {
   "cell_type": "code",
   "execution_count": null,
   "metadata": {},
   "outputs": [],
   "source": [
    "s=0\n",
    "while True:\n",
    "    n=int(input())\n",
    "    s+=n\n",
    "    if n==0:\n",
    "        break\n",
    "print(s)"
   ]
  },
  {
   "cell_type": "code",
   "execution_count": null,
   "metadata": {},
   "outputs": [],
   "source": [
    "b=20\n",
    "while(b>0):\n",
    "    print(b,end=\" \")\n",
    "    b-=1"
   ]
  },
  {
   "cell_type": "code",
   "execution_count": null,
   "metadata": {},
   "outputs": [],
   "source": [
    "a=int(input())\n",
    "b=0\n",
    "for i in range(2,a+1):\n",
    "    b+=(1/i)\n",
    "print(b)"
   ]
  },
  {
   "cell_type": "code",
   "execution_count": null,
   "metadata": {},
   "outputs": [],
   "source": [
    "#Quadratic(4)\n",
    "import math\n",
    "\n",
    "a=int(input())\n",
    "b=int(input())\n",
    "c=int(input())\n",
    "e=b*b - 4*a*c\n",
    "d=math.sqrt(abs(e))\n",
    "if(e>0):\n",
    "    print(\"Real and Different Roots \")\n",
    "    print((-b+d)/2*a)\n",
    "    print((-b-d)/2*a)\n",
    "elif (e==0):\n",
    "    print(\"Real and Same Roots \")\n",
    "    print(-b/(2*a))\n",
    "else:\n",
    "    print(\"Complex Roots \")\n",
    "    print(-b/(2*a),\"+i\",d)\n",
    "    print(-b/(2*a),\"-i\",d)"
   ]
  },
  {
   "cell_type": "code",
   "execution_count": null,
   "metadata": {},
   "outputs": [],
   "source": [
    "#Triangle(5)\n",
    "\n",
    "a=int(input())\n",
    "b=int(input())\n",
    "c=int(input())\n",
    "if(a+b+c ==180):\n",
    "    print(\"Triangle\")\n",
    "elif(a==0 or b==0 or c==0 ):\n",
    "    print(\"Enter correct values\")\n",
    "else:\n",
    "    print(\"not a triangle\")"
   ]
  },
  {
   "cell_type": "code",
   "execution_count": null,
   "metadata": {},
   "outputs": [],
   "source": [
    "#Salary(6)\n",
    "\n",
    "bs=int(input())\n",
    "if(bs<=10000):\n",
    "    print(bs+(bs*0.2)+(bs*0.8))\n",
    "elif(bs>10000 and bs <=20000):\n",
    "    print(bs+(0.25*bs)+(0.9*bs))\n",
    "elif(bs>20000):\n",
    "    print(bs+(bs*0.3)+(bs*0.95))"
   ]
  },
  {
   "cell_type": "code",
   "execution_count": null,
   "metadata": {},
   "outputs": [],
   "source": [
    "for i in range(1, 1001):\n",
    "    if i % 2 != 0 and i % 3 != 0 and i % 5 != 0 and i % 7 != 0 and i % 11 != 0 and i % 13 != 0 and i % 17 != 0 and  i % 19 != 0:\n",
    "        print(i,end=\" \")\n"
   ]
  },
  {
   "cell_type": "code",
   "execution_count": null,
   "metadata": {},
   "outputs": [],
   "source": [
    "a=int(input())\n",
    "b=int(input())\n",
    "for i in range(1,a+1):\n",
    "    if a%i==0 and b%i==0:\n",
    "        hcf=i\n",
    "print(hcf)"
   ]
  },
  {
   "cell_type": "code",
   "execution_count": null,
   "metadata": {},
   "outputs": [],
   "source": [
    "#Armstrong No 19\n",
    "a=int(input())\n",
    "s=0\n",
    "e=a\n",
    "while(a!=0):\n",
    "    d=a%10\n",
    "    s+=(d*d*d)\n",
    "    a//=10\n",
    "if(s==e):\n",
    "    print(\"Armstrong\")\n",
    "else:\n",
    "    print(\"Not Armstrong\")"
   ]
  },
  {
   "cell_type": "code",
   "execution_count": null,
   "metadata": {},
   "outputs": [],
   "source": [
    "# Swap first and last digit 20\n",
    "\n"
   ]
  },
  {
   "cell_type": "code",
   "execution_count": null,
   "metadata": {},
   "outputs": [],
   "source": [
    "n=int(input())\n",
    "for i in range (1,n+1):\n",
    "    c=0\n",
    "    for j in range(2,i):\n",
    "        if(i%j==0):\n",
    "            c+=1\n",
    "    if(c==0):\n",
    "        print(i,end=\" \")\n"
   ]
  },
  {
   "cell_type": "code",
   "execution_count": null,
   "metadata": {},
   "outputs": [],
   "source": [
    "#Pattern No 22\n",
    "for i in range(1, 10):\n",
    "    if (i <= 5):\n",
    "        print(\"* \"*i)\n",
    "    else:\n",
    "        print(\"* \"*(10-i))\n"
   ]
  }
 ],
 "metadata": {
  "kernelspec": {
   "display_name": "Python 3.10.5 64-bit",
   "language": "python",
   "name": "python3"
  },
  "language_info": {
   "codemirror_mode": {
    "name": "ipython",
    "version": 3
   },
   "file_extension": ".py",
   "mimetype": "text/x-python",
   "name": "python",
   "nbconvert_exporter": "python",
   "pygments_lexer": "ipython3",
   "version": "3.10.7"
  },
  "orig_nbformat": 4,
  "vscode": {
   "interpreter": {
    "hash": "369f2c481f4da34e4445cda3fffd2e751bd1c4d706f27375911949ba6bb62e1c"
   }
  }
 },
 "nbformat": 4,
 "nbformat_minor": 2
}
